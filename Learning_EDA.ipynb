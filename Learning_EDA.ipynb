{
  "nbformat": 4,
  "nbformat_minor": 0,
  "metadata": {
    "colab": {
      "provenance": [],
      "authorship_tag": "ABX9TyMQ2R0itQxX2kf4+CQe/rC3",
      "include_colab_link": true
    },
    "kernelspec": {
      "name": "python3",
      "display_name": "Python 3"
    },
    "language_info": {
      "name": "python"
    }
  },
  "cells": [
    {
      "cell_type": "markdown",
      "metadata": {
        "id": "view-in-github",
        "colab_type": "text"
      },
      "source": [
        "<a href=\"https://colab.research.google.com/github/feliciamargareta/Learning-EDA/blob/main/Learning_EDA.ipynb\" target=\"_parent\"><img src=\"https://colab.research.google.com/assets/colab-badge.svg\" alt=\"Open In Colab\"/></a>"
      ]
    },
    {
      "cell_type": "markdown",
      "source": [
        "# 2. Data Cleaning & Imputation\n"
      ],
      "metadata": {
        "id": "3w5-28BCybOx"
      }
    },
    {
      "cell_type": "markdown",
      "source": [
        "## Addressing missing data\n",
        "Exploring and analyzing data often means dealing with missing values, incorrect data types, and outliers. In this chapter, you’ll learn techniques to handle these issues and streamline your EDA processes!\n"
      ],
      "metadata": {
        "id": "t2dRKDMC6Z-M"
      }
    },
    {
      "cell_type": "markdown",
      "source": [
        "### Dealing with missing data\n",
        "It is important to deal with missing data before starting your analysis.\n",
        "\n",
        "One approach is to drop missing values if they account for a small proportion, typically five percent, of your data.\n",
        "\n",
        "Working with a dataset on plane ticket prices, stored as a pandas DataFrame called planes, you'll need to count the number of missing values across all columns, calculate five percent of all values, use this threshold to remove observations, and check how many missing values remain in the dataset."
      ],
      "metadata": {
        "id": "0kxbC1IPy3ei"
      }
    },
    {
      "cell_type": "code",
      "source": [
        "import pandas as pd\n",
        "\n",
        "# load the data\n",
        "planes = pd.read_csv('planes.csv')\n",
        "\n",
        "planes.info()"
      ],
      "metadata": {
        "colab": {
          "base_uri": "https://localhost:8080/"
        },
        "id": "W0dowTth2LXq",
        "outputId": "babf5d8c-c87d-4bbb-97ce-6336412a2a2d"
      },
      "execution_count": 93,
      "outputs": [
        {
          "output_type": "stream",
          "name": "stdout",
          "text": [
            "<class 'pandas.core.frame.DataFrame'>\n",
            "RangeIndex: 10660 entries, 0 to 10659\n",
            "Data columns (total 11 columns):\n",
            " #   Column           Non-Null Count  Dtype  \n",
            "---  ------           --------------  -----  \n",
            " 0   Airline          10233 non-null  object \n",
            " 1   Date_of_Journey  10338 non-null  object \n",
            " 2   Source           10473 non-null  object \n",
            " 3   Destination      10313 non-null  object \n",
            " 4   Route            10404 non-null  object \n",
            " 5   Dep_Time         10400 non-null  object \n",
            " 6   Arrival_Time     10466 non-null  object \n",
            " 7   Duration         10446 non-null  object \n",
            " 8   Total_Stops      10448 non-null  object \n",
            " 9   Additional_Info  10071 non-null  object \n",
            " 10  Price            10044 non-null  float64\n",
            "dtypes: float64(1), object(10)\n",
            "memory usage: 916.2+ KB\n"
          ]
        }
      ]
    },
    {
      "cell_type": "code",
      "source": [
        "# Count the number of missing values in each column\n",
        "print(planes.isna().sum())"
      ],
      "metadata": {
        "colab": {
          "base_uri": "https://localhost:8080/"
        },
        "id": "EhM5nPm12XHf",
        "outputId": "97d414ff-41a8-43fe-f526-4bc75262ae88"
      },
      "execution_count": 46,
      "outputs": [
        {
          "output_type": "stream",
          "name": "stdout",
          "text": [
            "Airline            427\n",
            "Date_of_Journey    322\n",
            "Source             187\n",
            "Destination        347\n",
            "Route              256\n",
            "Dep_Time           260\n",
            "Arrival_Time       194\n",
            "Duration           214\n",
            "Total_Stops        212\n",
            "Additional_Info    589\n",
            "Price              616\n",
            "dtype: int64\n"
          ]
        }
      ]
    },
    {
      "cell_type": "code",
      "source": [
        "# Find the five percent threshold\n",
        "threshold = len(planes) * 0.05\n",
        "print(threshold)"
      ],
      "metadata": {
        "colab": {
          "base_uri": "https://localhost:8080/"
        },
        "id": "SH4fFMvw2m2q",
        "outputId": "4b019fa8-d52b-471d-eb25-3f794ea8a0ae"
      },
      "execution_count": 47,
      "outputs": [
        {
          "output_type": "stream",
          "name": "stdout",
          "text": [
            "533.0\n"
          ]
        }
      ]
    },
    {
      "cell_type": "markdown",
      "source": [
        "We use the threshold 5% of total values which is 533 to drop the missing values."
      ],
      "metadata": {
        "id": "BOSUA8173_QO"
      }
    },
    {
      "cell_type": "code",
      "source": [
        "# Create a filter\n",
        "cols_to_drop = planes.columns[planes.isna().sum() <=threshold]\n",
        "\n",
        "# Drop missing values for columns below the threshold\n",
        "planes.dropna(subset=cols_to_drop, inplace = True)\n",
        "\n",
        "print(planes.isna().sum())"
      ],
      "metadata": {
        "colab": {
          "base_uri": "https://localhost:8080/"
        },
        "id": "vAXu9FXZ2sxj",
        "outputId": "9e86c94b-a4d9-4cb6-dcf1-26cb25db8132"
      },
      "execution_count": 48,
      "outputs": [
        {
          "output_type": "stream",
          "name": "stdout",
          "text": [
            "Airline              0\n",
            "Date_of_Journey      0\n",
            "Source               0\n",
            "Destination          0\n",
            "Route                0\n",
            "Dep_Time             0\n",
            "Arrival_Time         0\n",
            "Duration             0\n",
            "Total_Stops          0\n",
            "Additional_Info    300\n",
            "Price              368\n",
            "dtype: int64\n"
          ]
        }
      ]
    },
    {
      "cell_type": "markdown",
      "source": [
        "By creating a missing values threshold and using it to filter columns, you've managed to remove missing values from all columns except for **\"Additional_Info\" and \"Price\"** because these 2 columns consist of >5% missing values."
      ],
      "metadata": {
        "id": "ds83v2s53tfz"
      }
    },
    {
      "cell_type": "markdown",
      "source": [
        "### Strategies for remaining missing data\n",
        "The five percent rule has worked nicely for your planes dataset, eliminating missing values from nine out of 11 columns!\n",
        "\n",
        "Now, you need to decide what to do with the **\"Additional_Info\" and \"Price\"** columns, which are missing 300 and 368 values respectively.\n",
        "\n",
        "You'll first take a look at what \"Additional_Info\" contains, then visualize the price of plane tickets by different airlines."
      ],
      "metadata": {
        "id": "QLFn8_Oz4VAH"
      }
    },
    {
      "cell_type": "code",
      "source": [
        "import seaborn as sns\n",
        "import matplotlib.pyplot as plt"
      ],
      "metadata": {
        "id": "s1oVM8sl3H7G"
      },
      "execution_count": 49,
      "outputs": []
    },
    {
      "cell_type": "code",
      "source": [
        "# Check the values of the Additional_Info column\n",
        "print(planes['Additional_Info'].value_counts())"
      ],
      "metadata": {
        "colab": {
          "base_uri": "https://localhost:8080/"
        },
        "id": "P1zbovUM4gui",
        "outputId": "562726fa-6ffe-4eaf-c6e4-6298ace8d578"
      },
      "execution_count": 50,
      "outputs": [
        {
          "output_type": "stream",
          "name": "stdout",
          "text": [
            "No info                         6399\n",
            "In-flight meal not included     1525\n",
            "No check-in baggage included     258\n",
            "1 Long layover                    14\n",
            "Change airports                    7\n",
            "No Info                            2\n",
            "Business class                     1\n",
            "Red-eye flight                     1\n",
            "2 Long layover                     1\n",
            "Name: Additional_Info, dtype: int64\n"
          ]
        }
      ]
    },
    {
      "cell_type": "code",
      "source": [
        "# Create a box plot of Price by Airline\n",
        "sns.boxplot(data=planes, x='Airline', y='Price')\n",
        "\n",
        "plt.show()"
      ],
      "metadata": {
        "colab": {
          "base_uri": "https://localhost:8080/",
          "height": 449
        },
        "id": "nXtPJvEa4mph",
        "outputId": "bfb02ea0-6711-4a63-c0b1-d4a4c3480c92"
      },
      "execution_count": 51,
      "outputs": [
        {
          "output_type": "display_data",
          "data": {
            "text/plain": [
              "<Figure size 640x480 with 1 Axes>"
            ],
            "image/png": "[encoded data removed]"
          },
          "metadata": {}
        }
      ]
    },
    {
      "cell_type": "markdown",
      "source": [
        "How to handle these missing values:\n",
        "- Remove the \"Additional_Info\" column\n",
        "- Impute the median by \"Airline\" for missing values of \"Price\"."
      ],
      "metadata": {
        "id": "7XJ-_IS15Ac2"
      }
    },
    {
      "cell_type": "markdown",
      "source": [
        "### Imputing missing plane prices\n",
        "Now there's just one column with missing values left!\n",
        "\n",
        "You've removed the \"Additional_Info\" column from planes—the last step is to impute the missing data in the \"Price\" column of the dataset.\n"
      ],
      "metadata": {
        "id": "e3mRZPSl5f51"
      }
    },
    {
      "cell_type": "code",
      "source": [
        "# Calculate median plane ticket prices by Airline\n",
        "airline_prices = planes.groupby('Airline')['Price'].median()\n",
        "\n",
        "print(airline_prices)"
      ],
      "metadata": {
        "colab": {
          "base_uri": "https://localhost:8080/"
        },
        "id": "Zl0fqCHN4wj2",
        "outputId": "299a44c2-c1bb-4dd9-bedc-2fb6f3ff1798"
      },
      "execution_count": 52,
      "outputs": [
        {
          "output_type": "stream",
          "name": "stdout",
          "text": [
            "Airline\n",
            "Air Asia              5192.0\n",
            "Air India             9443.0\n",
            "GoAir                 5003.5\n",
            "IndiGo                5054.0\n",
            "Jet Airways          11507.0\n",
            "Multiple carriers    10197.0\n",
            "SpiceJet              3873.0\n",
            "Vistara               8028.0\n",
            "Name: Price, dtype: float64\n"
          ]
        }
      ]
    },
    {
      "cell_type": "code",
      "source": [
        "# Convert to a dictionary\n",
        "prices_dict = airline_prices.to_dict()"
      ],
      "metadata": {
        "id": "cIDdj0955x5s"
      },
      "execution_count": 53,
      "outputs": []
    },
    {
      "cell_type": "code",
      "source": [
        "# Map the dictionary to missing values of Price by Airline\n",
        "planes[\"Price\"] = planes['Price'].fillna(planes['Airline'].map(prices_dict))\n",
        "\n",
        "# Check for missing values\n",
        "print(planes.isna().sum())"
      ],
      "metadata": {
        "colab": {
          "base_uri": "https://localhost:8080/"
        },
        "id": "OsSsXz4N55pN",
        "outputId": "806e4bf9-6f28-4e9e-abbf-606f554551f6"
      },
      "execution_count": 54,
      "outputs": [
        {
          "output_type": "stream",
          "name": "stdout",
          "text": [
            "Airline              0\n",
            "Date_of_Journey      0\n",
            "Source               0\n",
            "Destination          0\n",
            "Route                0\n",
            "Dep_Time             0\n",
            "Arrival_Time         0\n",
            "Duration             0\n",
            "Total_Stops          0\n",
            "Additional_Info    300\n",
            "Price                0\n",
            "dtype: int64\n"
          ]
        }
      ]
    },
    {
      "cell_type": "markdown",
      "source": [
        "You converted a grouped DataFrame to a dictionary and then used it to conditionally fill missing values for \"Price\" based on the \"Airline\"! Now let's explore how to perform exploratory analysis on categorical data."
      ],
      "metadata": {
        "id": "Ki968Uir6Byx"
      }
    },
    {
      "cell_type": "markdown",
      "source": [
        "## Converting and analyzing categorical data\n"
      ],
      "metadata": {
        "id": "_VyRAtOQ6ibE"
      }
    },
    {
      "cell_type": "markdown",
      "source": [
        "### Finding the number of unique values\n",
        "You would like to practice some of the categorical data manipulation and analysis skills that you've just seen. To help identify which data could be reformatted to extract value, you are going to find out which non-numeric columns in the planes dataset have a large number of unique values.\n",
        "\n",
        "pandas has been imported for you as pd, and the dataset has been stored as planes."
      ],
      "metadata": {
        "id": "RXsHYILQGkQD"
      }
    },
    {
      "cell_type": "code",
      "source": [
        "# Filter dataframe for the object data type\n",
        "non_numeric = planes.select_dtypes('object')"
      ],
      "metadata": {
        "id": "IBeVPZoO56K5"
      },
      "execution_count": 55,
      "outputs": []
    },
    {
      "cell_type": "code",
      "source": [
        "non_numeric"
      ],
      "metadata": {
        "colab": {
          "base_uri": "https://localhost:8080/",
          "height": 1000
        },
        "id": "M7PiodEoPnzd",
        "outputId": "50d0d052-3852-46d5-e5e8-d92c94d4f065"
      },
      "execution_count": 56,
      "outputs": [
        {
          "output_type": "execute_result",
          "data": {
            "text/plain": [
              "           Airline Date_of_Journey    Source Destination  \\\n",
              "0      Jet Airways       9/06/2019     Delhi      Cochin   \n",
              "1           IndiGo      12/05/2019   Kolkata    Banglore   \n",
              "2           IndiGo      01/03/2019  Banglore   New Delhi   \n",
              "3         SpiceJet      24/06/2019   Kolkata    Banglore   \n",
              "4      Jet Airways      12/03/2019  Banglore   New Delhi   \n",
              "...            ...             ...       ...         ...   \n",
              "10654     SpiceJet      21/05/2019  Banglore       Delhi   \n",
              "10655     Air Asia       9/04/2019   Kolkata    Banglore   \n",
              "10656    Air India      27/04/2019   Kolkata    Banglore   \n",
              "10658      Vistara      01/03/2019  Banglore   New Delhi   \n",
              "10659    Air India       9/05/2019     Delhi      Cochin   \n",
              "\n",
              "                       Route Dep_Time  Arrival_Time Duration Total_Stops  \\\n",
              "0      DEL → LKO → BOM → COK    09:25  04:25 10 Jun      19h     2 stops   \n",
              "1            CCU → NAG → BLR    18:05         23:30   5h 25m      1 stop   \n",
              "2            BLR → NAG → DEL    16:50         21:35   4h 45m      1 stop   \n",
              "3                  CCU → BLR    09:00         11:25   2h 25m    non-stop   \n",
              "4            BLR → BOM → DEL    18:55  10:25 13 Mar  15h 30m      1 stop   \n",
              "...                      ...      ...           ...      ...         ...   \n",
              "10654              BLR → DEL    05:55         08:35   2h 40m    non-stop   \n",
              "10655              CCU → BLR    19:55         22:25   2h 30m    non-stop   \n",
              "10656              CCU → BLR    20:45         23:20   2h 35m    non-stop   \n",
              "10658              BLR → DEL    11:30         14:10   2h 40m    non-stop   \n",
              "10659  DEL → GOI → BOM → COK    10:55         19:15   8h 20m     2 stops   \n",
              "\n",
              "                    Additional_Info  \n",
              "0                           No info  \n",
              "1                           No info  \n",
              "2                           No info  \n",
              "3                           No info  \n",
              "4       In-flight meal not included  \n",
              "...                             ...  \n",
              "10654  No check-in baggage included  \n",
              "10655                       No info  \n",
              "10656                       No info  \n",
              "10658                       No info  \n",
              "10659                       No info  \n",
              "\n",
              "[8508 rows x 10 columns]"
            ],
            "text/html": [
              "\n",
              "  <div id=\"df-bcd07280-21cf-4fef-995a-42a3618166b3\" class=\"colab-df-container\">\n",
              "    <div>\n",
              "<style scoped>\n",
              "    .dataframe tbody tr th:only-of-type {\n",
              "        vertical-align: middle;\n",
              "    }\n",
              "\n",
              "    .dataframe tbody tr th {\n",
              "        vertical-align: top;\n",
              "    }\n",
              "\n",
              "    .dataframe thead th {\n",
              "        text-align: right;\n",
              "    }\n",
              "</style>\n",
              "<table border=\"1\" class=\"dataframe\">\n",
              "  <thead>\n",
              "    <tr style=\"text-align: right;\">\n",
              "      <th></th>\n",
              "      <th>Airline</th>\n",
              "      <th>Date_of_Journey</th>\n",
              "      <th>Source</th>\n",
              "      <th>Destination</th>\n",
              "      <th>Route</th>\n",
              "      <th>Dep_Time</th>\n",
              "      <th>Arrival_Time</th>\n",
              "      <th>Duration</th>\n",
              "      <th>Total_Stops</th>\n",
              "      <th>Additional_Info</th>\n",
              "    </tr>\n",
              "  </thead>\n",
              "  <tbody>\n",
              "    <tr>\n",
              "      <th>0</th>\n",
              "      <td>Jet Airways</td>\n",
              "      <td>9/06/2019</td>\n",
              "      <td>Delhi</td>\n",
              "      <td>Cochin</td>\n",
              "      <td>DEL → LKO → BOM → COK</td>\n",
              "      <td>09:25</td>\n",
              "      <td>04:25 10 Jun</td>\n",
              "      <td>19h</td>\n",
              "      <td>2 stops</td>\n",
              "      <td>No info</td>\n",
              "    </tr>\n",
              "    <tr>\n",
              "      <th>1</th>\n",
              "      <td>IndiGo</td>\n",
              "      <td>12/05/2019</td>\n",
              "      <td>Kolkata</td>\n",
              "      <td>Banglore</td>\n",
              "      <td>CCU → NAG → BLR</td>\n",
              "      <td>18:05</td>\n",
              "      <td>23:30</td>\n",
              "      <td>5h 25m</td>\n",
              "      <td>1 stop</td>\n",
              "      <td>No info</td>\n",
              "    </tr>\n",
              "    <tr>\n",
              "      <th>2</th>\n",
              "      <td>IndiGo</td>\n",
              "      <td>01/03/2019</td>\n",
              "      <td>Banglore</td>\n",
              "      <td>New Delhi</td>\n",
              "      <td>BLR → NAG → DEL</td>\n",
              "      <td>16:50</td>\n",
              "      <td>21:35</td>\n",
              "      <td>4h 45m</td>\n",
              "      <td>1 stop</td>\n",
              "      <td>No info</td>\n",
              "    </tr>\n",
              "    <tr>\n",
              "      <th>3</th>\n",
              "      <td>SpiceJet</td>\n",
              "      <td>24/06/2019</td>\n",
              "      <td>Kolkata</td>\n",
              "      <td>Banglore</td>\n",
              "      <td>CCU → BLR</td>\n",
              "      <td>09:00</td>\n",
              "      <td>11:25</td>\n",
              "      <td>2h 25m</td>\n",
              "      <td>non-stop</td>\n",
              "      <td>No info</td>\n",
              "    </tr>\n",
              "    <tr>\n",
              "      <th>4</th>\n",
              "      <td>Jet Airways</td>\n",
              "      <td>12/03/2019</td>\n",
              "      <td>Banglore</td>\n",
              "      <td>New Delhi</td>\n",
              "      <td>BLR → BOM → DEL</td>\n",
              "      <td>18:55</td>\n",
              "      <td>10:25 13 Mar</td>\n",
              "      <td>15h 30m</td>\n",
              "      <td>1 stop</td>\n",
              "      <td>In-flight meal not included</td>\n",
              "    </tr>\n",
              "    <tr>\n",
              "      <th>...</th>\n",
              "      <td>...</td>\n",
              "      <td>...</td>\n",
              "      <td>...</td>\n",
              "      <td>...</td>\n",
              "      <td>...</td>\n",
              "      <td>...</td>\n",
              "      <td>...</td>\n",
              "      <td>...</td>\n",
              "      <td>...</td>\n",
              "      <td>...</td>\n",
              "    </tr>\n",
              "    <tr>\n",
              "      <th>10654</th>\n",
              "      <td>SpiceJet</td>\n",
              "      <td>21/05/2019</td>\n",
              "      <td>Banglore</td>\n",
              "      <td>Delhi</td>\n",
              "      <td>BLR → DEL</td>\n",
              "      <td>05:55</td>\n",
              "      <td>08:35</td>\n",
              "      <td>2h 40m</td>\n",
              "      <td>non-stop</td>\n",
              "      <td>No check-in baggage included</td>\n",
              "    </tr>\n",
              "    <tr>\n",
              "      <th>10655</th>\n",
              "      <td>Air Asia</td>\n",
              "      <td>9/04/2019</td>\n",
              "      <td>Kolkata</td>\n",
              "      <td>Banglore</td>\n",
              "      <td>CCU → BLR</td>\n",
              "      <td>19:55</td>\n",
              "      <td>22:25</td>\n",
              "      <td>2h 30m</td>\n",
              "      <td>non-stop</td>\n",
              "      <td>No info</td>\n",
              "    </tr>\n",
              "    <tr>\n",
              "      <th>10656</th>\n",
              "      <td>Air India</td>\n",
              "      <td>27/04/2019</td>\n",
              "      <td>Kolkata</td>\n",
              "      <td>Banglore</td>\n",
              "      <td>CCU → BLR</td>\n",
              "      <td>20:45</td>\n",
              "      <td>23:20</td>\n",
              "      <td>2h 35m</td>\n",
              "      <td>non-stop</td>\n",
              "      <td>No info</td>\n",
              "    </tr>\n",
              "    <tr>\n",
              "      <th>10658</th>\n",
              "      <td>Vistara</td>\n",
              "      <td>01/03/2019</td>\n",
              "      <td>Banglore</td>\n",
              "      <td>New Delhi</td>\n",
              "      <td>BLR → DEL</td>\n",
              "      <td>11:30</td>\n",
              "      <td>14:10</td>\n",
              "      <td>2h 40m</td>\n",
              "      <td>non-stop</td>\n",
              "      <td>No info</td>\n",
              "    </tr>\n",
              "    <tr>\n",
              "      <th>10659</th>\n",
              "      <td>Air India</td>\n",
              "      <td>9/05/2019</td>\n",
              "      <td>Delhi</td>\n",
              "      <td>Cochin</td>\n",
              "      <td>DEL → GOI → BOM → COK</td>\n",
              "      <td>10:55</td>\n",
              "      <td>19:15</td>\n",
              "      <td>8h 20m</td>\n",
              "      <td>2 stops</td>\n",
              "      <td>No info</td>\n",
              "    </tr>\n",
              "  </tbody>\n",
              "</table>\n",
              "<p>8508 rows × 10 columns</p>\n",
              "</div>\n",
              "    <div class=\"colab-df-buttons\">\n",
              "\n",
              "  <div class=\"colab-df-container\">\n",
              "    <button class=\"colab-df-convert\" onclick=\"convertToInteractive('df-bcd07280-21cf-4fef-995a-42a3618166b3')\"\n",
              "            title=\"Convert this dataframe to an interactive table.\"\n",
              "            style=\"display:none;\">\n",
              "\n",
              "  <svg xmlns=\"http://www.w3.org/2000/svg\" height=\"24px\" viewBox=\"0 -960 960 960\">\n",
              "    <path d=\"M120-120v-720h720v720H120Zm60-500h600v-160H180v160Zm220 220h160v-160H400v160Zm0 220h160v-160H400v160ZM180-400h160v-160H180v160Zm440 0h160v-160H620v160ZM180-180h160v-160H180v160Zm440 0h160v-160H620v160Z\"/>\n",
              "  </svg>\n",
              "    </button>\n",
              "\n",
              "  <style>\n",
              "    .colab-df-container {\n",
              "      display:flex;\n",
              "      gap: 12px;\n",
              "    }\n",
              "\n",
              "    .colab-df-convert {\n",
              "      background-color: #E8F0FE;\n",
              "      border: none;\n",
              "      border-radius: 50%;\n",
              "      cursor: pointer;\n",
              "      display: none;\n",
              "      fill: #1967D2;\n",
              "      height: 32px;\n",
              "      padding: 0 0 0 0;\n",
              "      width: 32px;\n",
              "    }\n",
              "\n",
              "    .colab-df-convert:hover {\n",
              "      background-color: #E2EBFA;\n",
              "      box-shadow: 0px 1px 2px rgba(60, 64, 67, 0.3), 0px 1px 3px 1px rgba(60, 64, 67, 0.15);\n",
              "      fill: #174EA6;\n",
              "    }\n",
              "\n",
              "    .colab-df-buttons div {\n",
              "      margin-bottom: 4px;\n",
              "    }\n",
              "\n",
              "    [theme=dark] .colab-df-convert {\n",
              "      background-color: #3B4455;\n",
              "      fill: #D2E3FC;\n",
              "    }\n",
              "\n",
              "    [theme=dark] .colab-df-convert:hover {\n",
              "      background-color: #434B5C;\n",
              "      box-shadow: 0px 1px 3px 1px rgba(0, 0, 0, 0.15);\n",
              "      filter: drop-shadow(0px 1px 2px rgba(0, 0, 0, 0.3));\n",
              "      fill: #FFFFFF;\n",
              "    }\n",
              "  </style>\n",
              "\n",
              "    <script>\n",
              "      const buttonEl =\n",
              "        document.querySelector('#df-bcd07280-21cf-4fef-995a-42a3618166b3 button.colab-df-convert');\n",
              "      buttonEl.style.display =\n",
              "        google.colab.kernel.accessAllowed ? 'block' : 'none';\n",
              "\n",
              "      async function convertToInteractive(key) {\n",
              "        const element = document.querySelector('#df-bcd07280-21cf-4fef-995a-42a3618166b3');\n",
              "        const dataTable =\n",
              "          await google.colab.kernel.invokeFunction('convertToInteractive',\n",
              "                                                    [key], {});\n",
              "        if (!dataTable) return;\n",
              "\n",
              "        const docLinkHtml = 'Like what you see? Visit the ' +\n",
              "          '<a target=\"_blank\" href=https://colab.research.google.com/notebooks/data_table.ipynb>data table notebook</a>'\n",
              "          + ' to learn more about interactive tables.';\n",
              "        element.innerHTML = '';\n",
              "        dataTable['output_type'] = 'display_data';\n",
              "        await google.colab.output.renderOutput(dataTable, element);\n",
              "        const docLink = document.createElement('div');\n",
              "        docLink.innerHTML = docLinkHtml;\n",
              "        element.appendChild(docLink);\n",
              "      }\n",
              "    </script>\n",
              "  </div>\n",
              "\n",
              "\n",
              "<div id=\"df-d2b12407-0c32-4b48-90aa-a57a88f54faa\">\n",
              "  <button class=\"colab-df-quickchart\" onclick=\"quickchart('df-d2b12407-0c32-4b48-90aa-a57a88f54faa')\"\n",
              "            title=\"Suggest charts\"\n",
              "            style=\"display:none;\">\n",
              "\n",
              "<svg xmlns=\"http://www.w3.org/2000/svg\" height=\"24px\"viewBox=\"0 0 24 24\"\n",
              "     width=\"24px\">\n",
              "    <g>\n",
              "        <path d=\"M19 3H5c-1.1 0-2 .9-2 2v14c0 1.1.9 2 2 2h14c1.1 0 2-.9 2-2V5c0-1.1-.9-2-2-2zM9 17H7v-7h2v7zm4 0h-2V7h2v10zm4 0h-2v-4h2v4z\"/>\n",
              "    </g>\n",
              "</svg>\n",
              "  </button>\n",
              "\n",
              "<style>\n",
              "  .colab-df-quickchart {\n",
              "      --bg-color: #E8F0FE;\n",
              "      --fill-color: #1967D2;\n",
              "      --hover-bg-color: #E2EBFA;\n",
              "      --hover-fill-color: #174EA6;\n",
              "      --disabled-fill-color: #AAA;\n",
              "      --disabled-bg-color: #DDD;\n",
              "  }\n",
              "\n",
              "  [theme=dark] .colab-df-quickchart {\n",
              "      --bg-color: #3B4455;\n",
              "      --fill-color: #D2E3FC;\n",
              "      --hover-bg-color: #434B5C;\n",
              "      --hover-fill-color: #FFFFFF;\n",
              "      --disabled-bg-color: #3B4455;\n",
              "      --disabled-fill-color: #666;\n",
              "  }\n",
              "\n",
              "  .colab-df-quickchart {\n",
              "    background-color: var(--bg-color);\n",
              "    border: none;\n",
              "    border-radius: 50%;\n",
              "    cursor: pointer;\n",
              "    display: none;\n",
              "    fill: var(--fill-color);\n",
              "    height: 32px;\n",
              "    padding: 0;\n",
              "    width: 32px;\n",
              "  }\n",
              "\n",
              "  .colab-df-quickchart:hover {\n",
              "    background-color: var(--hover-bg-color);\n",
              "    box-shadow: 0 1px 2px rgba(60, 64, 67, 0.3), 0 1px 3px 1px rgba(60, 64, 67, 0.15);\n",
              "    fill: var(--button-hover-fill-color);\n",
              "  }\n",
              "\n",
              "  .colab-df-quickchart-complete:disabled,\n",
              "  .colab-df-quickchart-complete:disabled:hover {\n",
              "    background-color: var(--disabled-bg-color);\n",
              "    fill: var(--disabled-fill-color);\n",
              "    box-shadow: none;\n",
              "  }\n",
              "\n",
              "  .colab-df-spinner {\n",
              "    border: 2px solid var(--fill-color);\n",
              "    border-color: transparent;\n",
              "    border-bottom-color: var(--fill-color);\n",
              "    animation:\n",
              "      spin 1s steps(1) infinite;\n",
              "  }\n",
              "\n",
              "  @keyframes spin {\n",
              "    0% {\n",
              "      border-color: transparent;\n",
              "      border-bottom-color: var(--fill-color);\n",
              "      border-left-color: var(--fill-color);\n",
              "    }\n",
              "    20% {\n",
              "      border-color: transparent;\n",
              "      border-left-color: var(--fill-color);\n",
              "      border-top-color: var(--fill-color);\n",
              "    }\n",
              "    30% {\n",
              "      border-color: transparent;\n",
              "      border-left-color: var(--fill-color);\n",
              "      border-top-color: var(--fill-color);\n",
              "      border-right-color: var(--fill-color);\n",
              "    }\n",
              "    40% {\n",
              "      border-color: transparent;\n",
              "      border-right-color: var(--fill-color);\n",
              "      border-top-color: var(--fill-color);\n",
              "    }\n",
              "    60% {\n",
              "      border-color: transparent;\n",
              "      border-right-color: var(--fill-color);\n",
              "    }\n",
              "    80% {\n",
              "      border-color: transparent;\n",
              "      border-right-color: var(--fill-color);\n",
              "      border-bottom-color: var(--fill-color);\n",
              "    }\n",
              "    90% {\n",
              "      border-color: transparent;\n",
              "      border-bottom-color: var(--fill-color);\n",
              "    }\n",
              "  }\n",
              "</style>\n",
              "\n",
              "  <script>\n",
              "    async function quickchart(key) {\n",
              "      const quickchartButtonEl =\n",
              "        document.querySelector('#' + key + ' button');\n",
              "      quickchartButtonEl.disabled = true;  // To prevent multiple clicks.\n",
              "      quickchartButtonEl.classList.add('colab-df-spinner');\n",
              "      try {\n",
              "        const charts = await google.colab.kernel.invokeFunction(\n",
              "            'suggestCharts', [key], {});\n",
              "      } catch (error) {\n",
              "        console.error('Error during call to suggestCharts:', error);\n",
              "      }\n",
              "      quickchartButtonEl.classList.remove('colab-df-spinner');\n",
              "      quickchartButtonEl.classList.add('colab-df-quickchart-complete');\n",
              "    }\n",
              "    (() => {\n",
              "      let quickchartButtonEl =\n",
              "        document.querySelector('#df-d2b12407-0c32-4b48-90aa-a57a88f54faa button');\n",
              "      quickchartButtonEl.style.display =\n",
              "        google.colab.kernel.accessAllowed ? 'block' : 'none';\n",
              "    })();\n",
              "  </script>\n",
              "</div>\n",
              "    </div>\n",
              "  </div>\n"
            ],
            "application/vnd.google.colaboratory.intrinsic+json": {
              "type": "dataframe",
              "variable_name": "non_numeric",
              "repr_error": "'str' object has no attribute 'empty'"
            }
          },
          "metadata": {},
          "execution_count": 56
        }
      ]
    },
    {
      "cell_type": "markdown",
      "source": [],
      "metadata": {
        "id": "-mY2v9mzPmWQ"
      }
    },
    {
      "cell_type": "code",
      "source": [
        "# Loop through the columns in the dataset.\n",
        "for col in non_numeric.columns:\n",
        "  # Add the column iterator to the print statement, then call the function to return the number of unique values in the column.\n",
        "  print(f'The number of unique values in {col} column:', non_numeric[col].nunique())"
      ],
      "metadata": {
        "colab": {
          "base_uri": "https://localhost:8080/"
        },
        "id": "Lp6SIjUBOUdA",
        "outputId": "d853fcd2-af4b-46f1-cbca-ec27d4ff910f"
      },
      "execution_count": 57,
      "outputs": [
        {
          "output_type": "stream",
          "name": "stdout",
          "text": [
            "The number of unique values in Airline column: 8\n",
            "The number of unique values in Date_of_Journey column: 44\n",
            "The number of unique values in Source column: 5\n",
            "The number of unique values in Destination column: 6\n",
            "The number of unique values in Route column: 122\n",
            "The number of unique values in Dep_Time column: 218\n",
            "The number of unique values in Arrival_Time column: 1220\n",
            "The number of unique values in Duration column: 362\n",
            "The number of unique values in Total_Stops column: 5\n",
            "The number of unique values in Additional_Info column: 9\n"
          ]
        }
      ]
    },
    {
      "cell_type": "markdown",
      "source": [
        " Interestingly, \"Duration\" and \"Arrival_Time\" are currently an object column whereas it should be a numeric column, and has 362 unique values! Let's find out more about this column"
      ],
      "metadata": {
        "id": "gHA-Z6IeXD18"
      }
    },
    {
      "cell_type": "markdown",
      "source": [
        "### Flight duration categories\n",
        "As you saw, there are 362 unique values in the \"Duration\" column of planes. Calling planes[\"Duration\"].head(), we see the following values:\n",
        "\n",
        "0        19h\n",
        "1     5h 25m\n",
        "2     4h 45m\n",
        "3     2h 25m\n",
        "4    15h 30m\n",
        "Name: Duration, dtype: object\n",
        "Looks like this won't be simple to convert to numbers. However, you could categorize flights by duration and examine the frequency of different flight lengths!\n",
        "\n",
        "You'll create a \"Duration_Category\" column in the planes DataFrame. Before you can do this you'll need to create a list of the values you would like to insert into the DataFrame, followed by the existing values that these should be created from."
      ],
      "metadata": {
        "id": "xUXntRpsGp-K"
      }
    },
    {
      "cell_type": "code",
      "source": [
        "# Create short_flights, a string to capture values of \"0h\", \"1h\", \"2h\", \"3h\", or \"4h\" taking care to avoid values such as \"10h\".\n",
        "# Create medium_flights to capture any values between five and nine hours.\n",
        "# Create long_flights to capture any values from 10 hours to 16 hours inclusive.\n",
        "\n",
        "# Create a list of categories\n",
        "flight_categories = [\"Short-haul\", \"Medium\", \"Long-haul\"]\n",
        "\n",
        "# Create short-haul values\n",
        "short_flights = \"^0h|^1h|^2h|^3h|^4h\"\n",
        "\n",
        "# Create medium-haul values\n",
        "medium_flights = \"^5h|^6h|^7h|^8h|^9h\"\n",
        "\n",
        "# Create long-haul values\n",
        "long_flights = \"10h|11h|12h|13h|14h|15h|16h\"\n",
        "\n"
      ],
      "metadata": {
        "id": "xEUOeEpqXR-j"
      },
      "execution_count": 58,
      "outputs": []
    },
    {
      "cell_type": "markdown",
      "source": [
        "###Adding duration categories\n",
        "Now that you've set up the categories and values you want to capture, it's time to build a new column to analyze the frequency of flights by duration!\n",
        "\n",
        "The variables flight_categories, short_flights, medium_flights, and long_flights that you previously created are available to you.\n",
        "\n",
        "Additionally, the following packages have been imported: pandas as pd, numpy as np, seaborn as sns, and matplotlib.pyplot as plt.\n",
        "\n",
        "- Create conditions, a list containing subsets of planes[\"Duration\"] based on short_flights, medium_flights, and long_flights.\n",
        "- Create the \"Duration_Category\" column by calling a function that accepts your conditions list and flight_categories, setting values not found to \"Extreme duration\".\n",
        "- Create a plot showing the count of each category.\n",
        "\n"
      ],
      "metadata": {
        "id": "wxMJxWzHXxjW"
      }
    },
    {
      "cell_type": "code",
      "source": [
        "import numpy as np"
      ],
      "metadata": {
        "id": "OToyaf_WX9MG"
      },
      "execution_count": 59,
      "outputs": []
    },
    {
      "cell_type": "code",
      "source": [
        "# Create conditions for values in flight_categories to be created\n",
        "conditions = [\n",
        "    (planes[\"Duration\"].str.contains(short_flights)),\n",
        "    (planes[\"Duration\"].str.contains(medium_flights)),\n",
        "    (planes[\"Duration\"].str.contains(long_flights))\n",
        "]\n",
        "\n",
        "# Apply the conditions list to the flight_categories\n",
        "planes[\"Duration_Category\"] = np.select(conditions,\n",
        "                                        flight_categories,\n",
        "                                        default=\"Extreme duration\")\n",
        "\n",
        "# Plot the counts of each category\n",
        "sns.countplot(data=planes, x=\"Duration_Category\")\n",
        "plt.show()\n"
      ],
      "metadata": {
        "colab": {
          "base_uri": "https://localhost:8080/",
          "height": 450
        },
        "id": "f52T_LfoXX9U",
        "outputId": "9d3db2ee-eb91-4cfb-f261-10fdcd89db98"
      },
      "execution_count": 60,
      "outputs": [
        {
          "output_type": "display_data",
          "data": {
            "text/plain": [
              "<Figure size 640x480 with 1 Axes>"
            ],
            "image/png": "[encoded data removed]"
          },
          "metadata": {}
        }
      ]
    },
    {
      "cell_type": "markdown",
      "source": [
        "It's clear that the majority of flights are short-haul, and virtually none are longer than 16 hours! Now let's take a deep dive into working with numerical data."
      ],
      "metadata": {
        "id": "dccADwu2Yvt0"
      }
    },
    {
      "cell_type": "markdown",
      "source": [
        "## Working with Numerical data\n"
      ],
      "metadata": {
        "id": "0in0A9_udo4N"
      }
    },
    {
      "cell_type": "markdown",
      "source": [
        "###Flight duration\n",
        "You would like to analyze the duration of flights, but unfortunately, the \"Duration\" column in the planes DataFrame currently contains string values.\n",
        "\n",
        "You'll need to clean the column and convert it to the correct data type for analysis."
      ],
      "metadata": {
        "id": "QcFylNLidih8"
      }
    },
    {
      "cell_type": "code",
      "source": [
        "# Preview the column\n",
        "print(planes[\"Duration\"].head())\n",
        "\n",
        "planes[['hour','minute']]=planes[\"Duration\"].str.split(\" \", expand = True)"
      ],
      "metadata": {
        "colab": {
          "base_uri": "https://localhost:8080/"
        },
        "id": "icbDqiFRdv7v",
        "outputId": "04a11c4e-fa47-4626-a0c4-53a9232a35d0"
      },
      "execution_count": 94,
      "outputs": [
        {
          "output_type": "stream",
          "name": "stdout",
          "text": [
            "0        19h\n",
            "1     5h 25m\n",
            "2     4h 45m\n",
            "3     2h 25m\n",
            "4    15h 30m\n",
            "Name: Duration, dtype: object\n"
          ]
        }
      ]
    },
    {
      "cell_type": "code",
      "source": [
        "planes.Duration.value_counts()"
      ],
      "metadata": {
        "colab": {
          "base_uri": "https://localhost:8080/"
        },
        "id": "DVfetkg0ffiu",
        "outputId": "adba093b-7791-41fa-ed44-19c1d0d35b68"
      },
      "execution_count": 95,
      "outputs": [
        {
          "output_type": "execute_result",
          "data": {
            "text/plain": [
              "2h 50m     532\n",
              "1h 30m     375\n",
              "2h 55m     329\n",
              "2h 45m     329\n",
              "2h 35m     322\n",
              "          ... \n",
              "27h 55m      1\n",
              "31h 30m      1\n",
              "35h 35m      1\n",
              "42h 5m       1\n",
              "47h 40m      1\n",
              "Name: Duration, Length: 367, dtype: int64"
            ]
          },
          "metadata": {},
          "execution_count": 95
        }
      ]
    },
    {
      "cell_type": "code",
      "source": [
        "# Remove the string character\n",
        "planes[\"hour\"] = planes[\"hour\"].str.replace(\"h|m\",'')\n",
        "\n",
        "# Convert to float data type\n",
        "planes[\"hour\"] = planes[\"hour\"].astype(float)\n",
        "\n"
      ],
      "metadata": {
        "colab": {
          "base_uri": "https://localhost:8080/"
        },
        "id": "ZBJ6kkA-eNQG",
        "outputId": "ccd70a07-8ddf-4c2e-910d-1d5f87f91b74"
      },
      "execution_count": 96,
      "outputs": [
        {
          "output_type": "stream",
          "name": "stderr",
          "text": [
            "<ipython-input-96-a16ca7979708>:2: FutureWarning: The default value of regex will change from True to False in a future version.\n",
            "  planes[\"hour\"] = planes[\"hour\"].str.replace(\"h|m\",'')\n"
          ]
        }
      ]
    },
    {
      "cell_type": "code",
      "source": [
        "# Plot the duration\n",
        "sns.histplot(data = planes, x = 'hour')\n",
        "plt.show()"
      ],
      "metadata": {
        "colab": {
          "base_uri": "https://localhost:8080/",
          "height": 449
        },
        "id": "p5H42jVDfNrU",
        "outputId": "60b6697c-9cf7-4a1c-f99e-838ed0319345"
      },
      "execution_count": 98,
      "outputs": [
        {
          "output_type": "display_data",
          "data": {
            "text/plain": [
              "<Figure size 640x480 with 1 Axes>"
            ],
            "image/png": "[encoded data removed]"
          },
          "metadata": {}
        }
      ]
    },
    {
      "cell_type": "markdown",
      "source": [
        "Once the data was in the right format, you were able to plot the distribution of 'Duration' and see that the most common flight length is around three hours."
      ],
      "metadata": {
        "id": "fJNrwyv5go3K"
      }
    },
    {
      "cell_type": "markdown",
      "source": [
        "### Adding descriptive statistics\n",
        "Now \"Duration\" and \"Price\" both contain numeric values in the planes DataFrame, you would like to calculate summary statistics for them that are conditional on values in other columns."
      ],
      "metadata": {
        "id": "vnskQUObgsY6"
      }
    },
    {
      "cell_type": "code",
      "source": [
        "# Mean Price by Destination\n",
        "planes[\"price_destination_mean\"] = planes.groupby(\"Destination\")[\"Price\"].transform(lambda x: x.mean())"
      ],
      "metadata": {
        "id": "3-UmE3rfesOi"
      },
      "execution_count": 105,
      "outputs": []
    },
    {
      "cell_type": "code",
      "source": [
        "print(planes[[\"Destination\",\"price_destination_mean\"]].value_counts())"
      ],
      "metadata": {
        "colab": {
          "base_uri": "https://localhost:8080/"
        },
        "id": "MfJi0A8Hgy41",
        "outputId": "4b9f93d5-d399-497e-95d8-5e6fb4ab54e5"
      },
      "execution_count": 106,
      "outputs": [
        {
          "output_type": "stream",
          "name": "stdout",
          "text": [
            "Destination  price_destination_mean\n",
            "Cochin       10506.993486              4391\n",
            "Banglore     9132.225153               2773\n",
            "Delhi        5157.794118               1219\n",
            "New Delhi    11738.589499               888\n",
            "Hyderabad    5025.210280                673\n",
            "Kolkata      4801.489796                369\n",
            "dtype: int64\n"
          ]
        }
      ]
    },
    {
      "cell_type": "code",
      "source": [
        "# Calculate the median for \"Duration\" by \"Airline\", storing it as a column called \"airline_median_duration\".\n",
        "\n",
        "planes['duration_by_airline'] = planes.groupby('Airline')['hour'].transform(lambda x: x.median())"
      ],
      "metadata": {
        "id": "j3_TiPwThB_r"
      },
      "execution_count": 109,
      "outputs": []
    },
    {
      "cell_type": "code",
      "source": [
        "print(planes[['Airline','duration_by_airline']].value_counts())"
      ],
      "metadata": {
        "colab": {
          "base_uri": "https://localhost:8080/"
        },
        "id": "AI0YiQ6fhfYp",
        "outputId": "863aa6c8-fdf5-416e-ea5a-13486bd7a4ad"
      },
      "execution_count": 111,
      "outputs": [
        {
          "output_type": "stream",
          "name": "stdout",
          "text": [
            "Airline            duration_by_airline\n",
            "Jet Airways        13.0                   3685\n",
            "IndiGo             2.0                    1981\n",
            "Air India          15.0                   1686\n",
            "Multiple carriers  10.0                   1148\n",
            "SpiceJet           2.0                     787\n",
            "Vistara            3.0                     455\n",
            "Air Asia           2.0                     309\n",
            "GoAir              5.0                     182\n",
            "dtype: int64\n"
          ]
        }
      ]
    },
    {
      "cell_type": "code",
      "source": [
        "# Mean Price by Destination\n",
        "planes[\"price_destination_mean\"] = planes.groupby(\"Destination\")[\"Price\"].transform(lambda x: x.mean())\n",
        "\n",
        "print(planes[[\"Destination\",\"price_destination_mean\"]].value_counts())"
      ],
      "metadata": {
        "colab": {
          "base_uri": "https://localhost:8080/"
        },
        "id": "ikiCl_ixhqQ9",
        "outputId": "c24f0df5-e36c-4fcb-ae25-4bcfe3bea713"
      },
      "execution_count": 112,
      "outputs": [
        {
          "output_type": "stream",
          "name": "stdout",
          "text": [
            "Destination  price_destination_mean\n",
            "Cochin       10506.993486              4391\n",
            "Banglore     9132.225153               2773\n",
            "Delhi        5157.794118               1219\n",
            "New Delhi    11738.589499               888\n",
            "Hyderabad    5025.210280                673\n",
            "Kolkata      4801.489796                369\n",
            "dtype: int64\n"
          ]
        }
      ]
    },
    {
      "cell_type": "markdown",
      "source": [
        "## Handling Outliers"
      ],
      "metadata": {
        "id": "q6mflshRjPgx"
      }
    },
    {
      "cell_type": "markdown",
      "source": [
        "### Identifying outliers\n",
        "You've proven that you recognize what to do when presented with outliers, but can you identify them using visualizations?\n",
        "\n",
        "Try to figure out if there are outliers in the \"Price\" or \"Duration\" columns of the planes DataFrame."
      ],
      "metadata": {
        "id": "GBvczKsojIdw"
      }
    },
    {
      "cell_type": "code",
      "source": [
        "# Plot a histogram of flight prices\n",
        "sns.histplot(data = planes, x='Price')\n",
        "plt.show()"
      ],
      "metadata": {
        "colab": {
          "base_uri": "https://localhost:8080/",
          "height": 449
        },
        "id": "sHX3b4wxjSwk",
        "outputId": "be5a2948-9db4-485b-fb36-35efbfabdcf4"
      },
      "execution_count": 114,
      "outputs": [
        {
          "output_type": "display_data",
          "data": {
            "text/plain": [
              "<Figure size 640x480 with 1 Axes>"
            ],
            "image/png": "[encoded data removed]"
          },
          "metadata": {}
        }
      ]
    },
    {
      "cell_type": "code",
      "source": [
        "# Display descriptive statistics for flight duration\n",
        "print(planes['hour'].describe())"
      ],
      "metadata": {
        "colab": {
          "base_uri": "https://localhost:8080/"
        },
        "id": "M86M3UapjU7f",
        "outputId": "0362f9bb-657f-43ce-ab2d-99d17013a6fc"
      },
      "execution_count": 116,
      "outputs": [
        {
          "output_type": "stream",
          "name": "stdout",
          "text": [
            "count    10446.000000\n",
            "mean        10.252345\n",
            "std          8.502149\n",
            "min          1.000000\n",
            "25%          2.000000\n",
            "50%          8.000000\n",
            "75%         15.000000\n",
            "max         47.000000\n",
            "Name: hour, dtype: float64\n"
          ]
        }
      ]
    },
    {
      "cell_type": "markdown",
      "source": [
        "Based on the chart above, \"Price\" and \"Duration\" columns are potentially contains outliers. The Price shows a right skewed distribution. while the max duration is almost 5x of the mean.\n",
        "\n",
        "Histograms, boxplots, and descriptive statistics are also useful methods for identifying extreme values. Now let's deal with them!"
      ],
      "metadata": {
        "id": "bc1QEazBjpyj"
      }
    },
    {
      "cell_type": "markdown",
      "source": [
        "### Removing outliers\n",
        "While removing outliers isn't always the way to go, for your analysis, you've decided that you will only include flights where the \"Price\" is not an outlier.\n",
        "\n",
        "Therefore, you need to find the upper threshold and then use it to remove values above this from the planes DataFrame."
      ],
      "metadata": {
        "id": "6eia8c79kDfl"
      }
    },
    {
      "cell_type": "code",
      "source": [
        "# Find the 75th and 25th percentiles\n",
        "price_seventy_fifth = planes[\"Price\"].quantile(0.75)\n",
        "price_twenty_fifth = planes[\"Price\"].quantile(0.25)\n",
        "\n",
        "# Calculate iqr\n",
        "prices_iqr = price_seventy_fifth - price_twenty_fifth\n",
        "\n",
        "# Calculate the thresholds\n",
        "upper = price_seventy_fifth + (1.5 * prices_iqr)\n",
        "lower = price_twenty_fifth - (1.5 * prices_iqr)\n",
        "\n",
        "# Subset the data\n",
        "planes = planes[(planes[\"Price\"] > lower) & (planes[\"Price\"] < upper)]\n",
        "\n",
        "print(planes[\"Price\"].describe())"
      ],
      "metadata": {
        "colab": {
          "base_uri": "https://localhost:8080/"
        },
        "id": "_WO-afzNkGZA",
        "outputId": "cc266797-242c-44f5-d7c8-eae6e89b567f"
      },
      "execution_count": 118,
      "outputs": [
        {
          "output_type": "stream",
          "name": "stdout",
          "text": [
            "count     9959.000000\n",
            "mean      8875.160860\n",
            "std       4057.202002\n",
            "min       1759.000000\n",
            "25%       5228.000000\n",
            "50%       8283.000000\n",
            "75%      12284.000000\n",
            "max      23001.000000\n",
            "Name: Price, dtype: float64\n"
          ]
        }
      ]
    },
    {
      "cell_type": "markdown",
      "source": [
        "You managed to create thresholds based on the IQR and used them to filter the planes dataset to eliminate extreme prices. Originally the dataset had a maximum price of almost 55000, but the output of planes.describe() shows the maximum has been reduced to around 23000, reflecting a less skewed distribution for analysis!"
      ],
      "metadata": {
        "id": "DZefejlBkvIx"
      }
    },
    {
      "cell_type": "code",
      "source": [],
      "metadata": {
        "id": "0r-uDLZgkF7V"
      },
      "execution_count": null,
      "outputs": []
    }
  ]
}